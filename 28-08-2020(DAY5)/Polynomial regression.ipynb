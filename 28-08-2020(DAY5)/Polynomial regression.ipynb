{
 "cells": [
  {
   "cell_type": "markdown",
   "metadata": {},
   "source": [
    "### Today topics:\n",
    "\n",
    "* Polynomial Features\n",
    "* overfiting,underfitin,bestfit\n",
    "* use cases of linear regression"
   ]
  },
  {
   "cell_type": "markdown",
   "metadata": {},
   "source": [
    "### Polynomial Regression\n",
    "\n",
    "Polynomial Regression is used for apply the non-linear datasets\n"
   ]
  },
  {
   "cell_type": "code",
   "execution_count": 1,
   "metadata": {},
   "outputs": [
    {
     "data": {
      "text/html": [
       "<div>\n",
       "<style scoped>\n",
       "    .dataframe tbody tr th:only-of-type {\n",
       "        vertical-align: middle;\n",
       "    }\n",
       "\n",
       "    .dataframe tbody tr th {\n",
       "        vertical-align: top;\n",
       "    }\n",
       "\n",
       "    .dataframe thead th {\n",
       "        text-align: right;\n",
       "    }\n",
       "</style>\n",
       "<table border=\"1\" class=\"dataframe\">\n",
       "  <thead>\n",
       "    <tr style=\"text-align: right;\">\n",
       "      <th></th>\n",
       "      <th>empexp</th>\n",
       "      <th>sal</th>\n",
       "    </tr>\n",
       "  </thead>\n",
       "  <tbody>\n",
       "    <tr>\n",
       "      <th>0</th>\n",
       "      <td>1</td>\n",
       "      <td>500</td>\n",
       "    </tr>\n",
       "    <tr>\n",
       "      <th>1</th>\n",
       "      <td>2</td>\n",
       "      <td>650</td>\n",
       "    </tr>\n",
       "    <tr>\n",
       "      <th>2</th>\n",
       "      <td>3</td>\n",
       "      <td>400</td>\n",
       "    </tr>\n",
       "    <tr>\n",
       "      <th>3</th>\n",
       "      <td>4</td>\n",
       "      <td>800</td>\n",
       "    </tr>\n",
       "    <tr>\n",
       "      <th>4</th>\n",
       "      <td>5</td>\n",
       "      <td>950</td>\n",
       "    </tr>\n",
       "  </tbody>\n",
       "</table>\n",
       "</div>"
      ],
      "text/plain": [
       "   empexp  sal\n",
       "0       1  500\n",
       "1       2  650\n",
       "2       3  400\n",
       "3       4  800\n",
       "4       5  950"
      ]
     },
     "execution_count": 1,
     "metadata": {},
     "output_type": "execute_result"
    }
   ],
   "source": [
    "import pandas as pd\n",
    "import numpy as np\n",
    "d={\"empexp\":[1,2,3,4,5,6,7,8,9],\"sal\":[500,650,400,800,950,1000,1550,1730,2000]}\n",
    "df=pd.DataFrame(d)\n",
    "df.head()"
   ]
  },
  {
   "cell_type": "code",
   "execution_count": 2,
   "metadata": {},
   "outputs": [],
   "source": [
    "X=df[['empexp']]\n",
    "y=df[['sal']]"
   ]
  },
  {
   "cell_type": "code",
   "execution_count": 3,
   "metadata": {},
   "outputs": [
    {
     "data": {
      "text/plain": [
       "LinearRegression(copy_X=True, fit_intercept=True, n_jobs=None, normalize=False)"
      ]
     },
     "execution_count": 3,
     "metadata": {},
     "output_type": "execute_result"
    }
   ],
   "source": [
    "from sklearn.linear_model import LinearRegression\n",
    "model=LinearRegression()\n",
    "model.fit(X,y)"
   ]
  },
  {
   "cell_type": "code",
   "execution_count": 4,
   "metadata": {},
   "outputs": [
    {
     "data": {
      "text/plain": [
       "0.8927737377575873"
      ]
     },
     "execution_count": 4,
     "metadata": {},
     "output_type": "execute_result"
    }
   ],
   "source": [
    "model.score(X,y)"
   ]
  },
  {
   "cell_type": "code",
   "execution_count": 6,
   "metadata": {},
   "outputs": [
    {
     "data": {
      "image/png": "[encoded data removed]",
      "text/plain": [
       "<Figure size 432x288 with 1 Axes>"
      ]
     },
     "metadata": {
      "needs_background": "light"
     },
     "output_type": "display_data"
    }
   ],
   "source": [
    "# Data visulization\n",
    "import matplotlib.pyplot as plt\n",
    "plt.scatter(X,y,color='g')\n",
    "plt.plot(X,model.predict(X),color='b')\n",
    "plt.show()"
   ]
  },
  {
   "cell_type": "code",
   "execution_count": 7,
   "metadata": {},
   "outputs": [
    {
     "data": {
      "text/plain": [
       "159.20987654320987"
      ]
     },
     "execution_count": 7,
     "metadata": {},
     "output_type": "execute_result"
    }
   ],
   "source": [
    "# find the error (distance between actual values and predicted values)\n",
    "\n",
    "from sklearn.metrics import mean_absolute_error\n",
    "y_pred=model.predict(X)\n",
    "mean_absolute_error(y,y_pred)"
   ]
  },
  {
   "cell_type": "code",
   "execution_count": 8,
   "metadata": {},
   "outputs": [
    {
     "data": {
      "text/plain": [
       "array([[868.77777778]])"
      ]
     },
     "execution_count": 8,
     "metadata": {},
     "output_type": "execute_result"
    }
   ],
   "source": [
    "model.predict([[4]])"
   ]
  },
  {
   "cell_type": "markdown",
   "metadata": {},
   "source": [
    "### Polynomial regression\n",
    "\n",
    "* y=mx+c\n",
    "* y=m1x1+m2x2+m3x3+.....+c\n",
    "* y=m1x1+m1x1^2+m1x1^3+....+mn+x1^n+c"
   ]
  },
  {
   "cell_type": "code",
   "execution_count": 32,
   "metadata": {},
   "outputs": [
    {
     "data": {
      "text/plain": [
       "array([[1.000000e+00, 1.000000e+00, 1.000000e+00, 1.000000e+00,\n",
       "        1.000000e+00, 1.000000e+00, 1.000000e+00, 1.000000e+00],\n",
       "       [1.000000e+00, 2.000000e+00, 4.000000e+00, 8.000000e+00,\n",
       "        1.600000e+01, 3.200000e+01, 6.400000e+01, 1.280000e+02],\n",
       "       [1.000000e+00, 3.000000e+00, 9.000000e+00, 2.700000e+01,\n",
       "        8.100000e+01, 2.430000e+02, 7.290000e+02, 2.187000e+03],\n",
       "       [1.000000e+00, 4.000000e+00, 1.600000e+01, 6.400000e+01,\n",
       "        2.560000e+02, 1.024000e+03, 4.096000e+03, 1.638400e+04],\n",
       "       [1.000000e+00, 5.000000e+00, 2.500000e+01, 1.250000e+02,\n",
       "        6.250000e+02, 3.125000e+03, 1.562500e+04, 7.812500e+04],\n",
       "       [1.000000e+00, 6.000000e+00, 3.600000e+01, 2.160000e+02,\n",
       "        1.296000e+03, 7.776000e+03, 4.665600e+04, 2.799360e+05],\n",
       "       [1.000000e+00, 7.000000e+00, 4.900000e+01, 3.430000e+02,\n",
       "        2.401000e+03, 1.680700e+04, 1.176490e+05, 8.235430e+05],\n",
       "       [1.000000e+00, 8.000000e+00, 6.400000e+01, 5.120000e+02,\n",
       "        4.096000e+03, 3.276800e+04, 2.621440e+05, 2.097152e+06],\n",
       "       [1.000000e+00, 9.000000e+00, 8.100000e+01, 7.290000e+02,\n",
       "        6.561000e+03, 5.904900e+04, 5.314410e+05, 4.782969e+06]])"
      ]
     },
     "execution_count": 32,
     "metadata": {},
     "output_type": "execute_result"
    }
   ],
   "source": [
    "from sklearn.preprocessing import PolynomialFeatures\n",
    "p1=PolynomialFeatures(degree=7)  # y=m1x1+m1x1^2+m1x1^3+c\n",
    "p_x=p1.fit_transform(X)\n",
    "p_x"
   ]
  },
  {
   "cell_type": "code",
   "execution_count": 33,
   "metadata": {},
   "outputs": [
    {
     "data": {
      "text/plain": [
       "LinearRegression(copy_X=True, fit_intercept=True, n_jobs=None, normalize=False)"
      ]
     },
     "execution_count": 33,
     "metadata": {},
     "output_type": "execute_result"
    }
   ],
   "source": [
    "from sklearn.linear_model import LinearRegression\n",
    "pereg=LinearRegression()\n",
    "pereg.fit(p_x,y)"
   ]
  },
  {
   "cell_type": "code",
   "execution_count": 34,
   "metadata": {},
   "outputs": [
    {
     "data": {
      "text/plain": [
       "0.999573073015455"
      ]
     },
     "execution_count": 34,
     "metadata": {},
     "output_type": "execute_result"
    }
   ],
   "source": [
    "pereg.score(p_x,y)"
   ]
  },
  {
   "cell_type": "code",
   "execution_count": 35,
   "metadata": {},
   "outputs": [
    {
     "data": {
      "text/plain": [
       "8.310111229092096"
      ]
     },
     "execution_count": 35,
     "metadata": {},
     "output_type": "execute_result"
    }
   ],
   "source": [
    "from sklearn.metrics import mean_absolute_error\n",
    "y_pred=pereg.predict(p_x)\n",
    "mean_absolute_error(y,y_pred)"
   ]
  },
  {
   "cell_type": "code",
   "execution_count": 36,
   "metadata": {},
   "outputs": [
    {
     "data": {
      "image/png": "[encoded data removed]",
      "text/plain": [
       "<Figure size 432x288 with 1 Axes>"
      ]
     },
     "metadata": {
      "needs_background": "light"
     },
     "output_type": "display_data"
    }
   ],
   "source": [
    "# visulize the polynomial data\n",
    "import matplotlib.pyplot as plt\n",
    "plt.scatter(X,y,color='g')\n",
    "plt.plot(X,pereg.predict(p_x),color='b')\n",
    "plt.show()"
   ]
  },
  {
   "cell_type": "code",
   "execution_count": null,
   "metadata": {},
   "outputs": [],
   "source": []
  }
 ],
 "metadata": {
  "kernelspec": {
   "display_name": "Python 3",
   "language": "python",
   "name": "python3"
  },
  "language_info": {
   "codemirror_mode": {
    "name": "ipython",
    "version": 3
   },
   "file_extension": ".py",
   "mimetype": "text/x-python",
   "name": "python",
   "nbconvert_exporter": "python",
   "pygments_lexer": "ipython3",
   "version": "3.7.3"
  }
 },
 "nbformat": 4,
 "nbformat_minor": 2
}
